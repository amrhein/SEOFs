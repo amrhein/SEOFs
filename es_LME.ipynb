{
 "cells": [
  {
   "cell_type": "markdown",
   "metadata": {},
   "source": [
    "## Load modules"
   ]
  },
  {
   "cell_type": "code",
   "execution_count": 157,
   "metadata": {},
   "outputs": [
    {
     "data": {
      "text/plain": [
       "<module 'ens_snapshot_tools' from '/Users/damrhein/Documents/2020-2021/SEOFs/ens_snapshot_tools.py'>"
      ]
     },
     "execution_count": 157,
     "metadata": {},
     "output_type": "execute_result"
    }
   ],
   "source": [
    "import numpy as np\n",
    "import imp\n",
    "import ens_snapshot_tools as ens\n",
    "import matplotlib.pyplot as plt\n",
    "\n",
    "# for debugging\n",
    "# imp.reload(ens)\n",
    "\n",
    "# Luke's\n",
    "import utils #utils file with functions\n",
    "import warnings\n",
    "warnings.filterwarnings('ignore')\n",
    "import os\n",
    "import glob\n",
    "import numpy as np\n",
    "import xarray as xr\n",
    "import xesmf as xe\n",
    "from scipy import stats\n",
    "from scipy import signal\n",
    "import time\n",
    "import matplotlib.pyplot as plt\n",
    "import cartopy.crs as ccrs\n",
    "import cartopy.feature\n",
    "from cartopy.util import add_cyclic_point\n",
    "%matplotlib inline\n",
    "import cartopy.util as cutil\n",
    "from cartopy.mpl.geoaxes import GeoAxes\n",
    "from cartopy.mpl.ticker import LongitudeFormatter, LatitudeFormatter\n",
    "from mpl_toolkits.axes_grid1 import AxesGrid\n",
    "from mpl_toolkits.basemap import Basemap, maskoceans\n",
    "import matplotlib.cm as cm\n",
    "\n",
    "import utils"
   ]
  },
  {
   "cell_type": "markdown",
   "metadata": {},
   "source": [
    "## Load control run"
   ]
  },
  {
   "cell_type": "code",
   "execution_count": 4,
   "metadata": {},
   "outputs": [
    {
     "name": "stdout",
     "output_type": "stream",
     "text": [
      "1000 96 144\n",
      "CESM control shape is:  (1000, 96, 144)\n",
      "Dimensions of U are: (13824, 1000) , Dimensions of S are:  (1000,) , Dimensions of V are:  (1000, 1000)\n"
     ]
    },
    {
     "data": {
      "text/plain": [
       "array([8.79, 4.61, 4.16, 3.04, 2.7 , 2.05, 1.89, 1.79, 1.6 ])"
      ]
     },
     "execution_count": 4,
     "metadata": {},
     "output_type": "execute_result"
    }
   ],
   "source": [
    "#load control run to determine lat, lon, nt, etc.\n",
    "ds = xr.open_dataset(DATAPATH_cesm + 'b.e11.B1850C5CN.f19_g16.0850cntl.001.cam.h0.TS.085001-184912.nc') #load tas\n",
    "LAT = ds['lat'][:]\n",
    "LON = ds['lon'][:]\n",
    "ds_TS = ds['TS'][:,:,:]\n",
    "ds_TS = ds_TS.groupby('time.year').mean('time')\n",
    "ds_TS = ds_TS[0:1000,:,:]\n",
    "[nt,nlat,nlon] = np.shape(ds_TS);\n",
    "print(nt,nlat,nlon)\n",
    "\n",
    "CESM_cntl_anoms = ds_TS - ds_TS.mean(axis=0)\n",
    "CESM_cntl_ltm = ds_TS.mean(axis=0)\n",
    "CESM_cntl_anoms_weighted = utils.weightdata(ds,CESM_cntl_anoms) #use function to latitude weight data\n",
    "print('CESM control shape is: ',CESM_cntl_anoms_weighted.shape)"
   ]
  },
  {
   "cell_type": "markdown",
   "metadata": {},
   "source": [
    "## Load LME"
   ]
  },
  {
   "cell_type": "code",
   "execution_count": 3,
   "metadata": {},
   "outputs": [],
   "source": [
    "# find all files that have necessary start/end strings etc for the all-forcing run\n",
    "filenames = sorted(os.listdir(DATAPATH_cesm))\n",
    "filenames_cesm = {}\n",
    "h = 0\n",
    "for filename in sorted(os.listdir(DATAPATH_cesm)):\n",
    "    if filename.endswith(\".cam.h0.TS.085001-184912.nc\"): #note this picks data 850-1849\n",
    "        if filename.startswith(\"b.e11.BLMTRC5CN.f19_g16.0\"): #note this string is the string for the all forcing data set\n",
    "            #print(\"filename starts with: b.e11.BLMTRC5CN.f19_g16.0\")\n",
    "            #print(filename)\n",
    "            filenames_cesm[h] = filename\n",
    "            h = h + 1\n",
    "filenames_cesm\n",
    "nens = h"
   ]
  },
  {
   "cell_type": "code",
   "execution_count": 53,
   "metadata": {},
   "outputs": [
    {
     "name": "stdout",
     "output_type": "stream",
     "text": [
      "Done with loading, all calcs in  2  seconds\n",
      "Done with loading, all calcs in  3  seconds\n",
      "Done with loading, all calcs in  3  seconds\n",
      "Done with loading, all calcs in  3  seconds\n",
      "Done with loading, all calcs in  3  seconds\n",
      "Done with loading, all calcs in  3  seconds\n",
      "Done with loading, all calcs in  3  seconds\n",
      "Done with loading, all calcs in  3  seconds\n",
      "Done with loading, all calcs in  3  seconds\n",
      "Done with loading, all calcs in  3  seconds\n",
      "Done with loading, all calcs in  3  seconds\n",
      "Done with loading, all calcs in  5  seconds\n",
      "Done with loading, all calcs in  5  seconds\n"
     ]
    }
   ],
   "source": [
    "dat = np.empty([nt,nlat*nlon,nens])\n",
    "\n",
    "for f in filenames_cesm:\n",
    "    start0 = time.time() #keep track of time through for loop\n",
    "    ds = xr.open_dataset(DATAPATH_cesm + filenames_cesm[f]) #load cesm data defined above\n",
    "    lat = ds['lat'][:]\n",
    "    lon = ds['lon'][:]\n",
    "    data_TS = ds['TS'][:,:,:]\n",
    "    data_TS1850 = data_TS.groupby('time.year').mean('time')[0:nt,:,:] #note that data includes first month of 1850, so exclude 1850!\n",
    "    data_TS_anom_weighted = utils.weightdata(ds,data_TS1850) #use function to latitude weight data\n",
    "    data_TS = data_TS_anom_weighted.reshape(nt,nlon*nlat) \n",
    "    dat[:,:,f] = data_TS\n",
    "    print(\"Done with loading, all calcs in \",round(time.time() - start0),\" seconds\")"
   ]
  },
  {
   "cell_type": "code",
   "execution_count": null,
   "metadata": {},
   "outputs": [],
   "source": [
    "# LUKE: could you define a time axis for the data?\n",
    "time = []"
   ]
  },
  {
   "cell_type": "markdown",
   "metadata": {},
   "source": [
    "## Compute time-varying, reduced-space covariance matrices"
   ]
  },
  {
   "cell_type": "code",
   "execution_count": 161,
   "metadata": {},
   "outputs": [],
   "source": [
    "# How much to truncate the state. Should be ~100(?)\n",
    "nEOF = 200\n",
    "\n",
    "# LUKE: This might be a heavy lift computationally (SVD on a matrix with smallest dimension =13000). \n",
    "# There are workarounds if we can't do it. Could be a good idea to save output if it runs!\n",
    "[datr,udat,s]   = ens.reduce_space(dat,nEOF)\n",
    "\n",
    "# Get time-varying reduced-space covariances\n",
    "[C,tC]        = ens.mk_covs(datr,time,binsize)\n",
    "[td,_,_]      = C.shape\n",
    "Cv            = C.reshape(td,nEOF**2).T\n",
    "\n",
    "plt.plot(np.cumsum(s**2)/np.sum(s**2))"
   ]
  },
  {
   "cell_type": "markdown",
   "metadata": {},
   "source": [
    "## Compute K-L divergence for LME"
   ]
  },
  {
   "cell_type": "code",
   "execution_count": 162,
   "metadata": {},
   "outputs": [
    {
     "data": {
      "text/plain": [
       "[<matplotlib.lines.Line2D at 0x7fe93009f2e0>]"
      ]
     },
     "execution_count": 162,
     "metadata": {},
     "output_type": "execute_result"
    },
    {
     "data": {
      "image/png": "[encoded data removed]",
      "text/plain": [
       "<Figure size 432x288 with 1 Axes>"
      ]
     },
     "metadata": {
      "needs_background": "light"
     },
     "output_type": "display_data"
    }
   ],
   "source": [
    "\n",
    "Cm = Cv.mean(axis=1, keepdims=True).reshape(nEOF,nEOF)\n",
    "m0 = np.zeros(nEOF)\n",
    "m1 = np.zeros(nEOF)\n",
    "\n",
    "kld = np.empty(td)\n",
    "for ii in np.arange(td):\n",
    "    kld[ii]   = ens.KLdiv(C[ii,:,:],Cm,m0,m1)\n",
    "    \n",
    "plt.plot(tC,kld)"
   ]
  },
  {
   "cell_type": "markdown",
   "metadata": {},
   "source": [
    "## Compute K-L divergence for control run"
   ]
  },
  {
   "cell_type": "code",
   "execution_count": 162,
   "metadata": {},
   "outputs": [
    {
     "data": {
      "text/plain": [
       "[<matplotlib.lines.Line2D at 0x7fe93009f2e0>]"
      ]
     },
     "execution_count": 162,
     "metadata": {},
     "output_type": "execute_result"
    },
    {
     "data": {
      "image/png": "[encoded data removed]",
      "text/plain": [
       "<Figure size 432x288 with 1 Axes>"
      ]
     },
     "metadata": {
      "needs_background": "light"
     },
     "output_type": "display_data"
    }
   ],
   "source": [
    "[nt,nlat,nlon] = np.shape(ds_TS);\n",
    "\n",
    "# Reshape the control run to look like a short ensemble simulation with 13 members\n",
    "# New time length for these is 978 = 13*76\n",
    "cnens = 13;\n",
    "tdn = np.floor(1000./cnens)*cnens\n",
    "# Reshape to give an ensemble axis and transpose to make the ordering consistent\n",
    "ce = ds_TS[:(tdn-1),:,:].reshape(tdn,cnens,nlat*nlon).transpose([0,2,1])\n",
    "\n",
    "# Need to compute reduced-space form\n",
    "nEOF = 200\n",
    "[cer,uce,sce]   = ens.reduce_space(ce,nEOF)\n",
    "\n",
    "# Get time-varying reduced-space covariances\n",
    "[Cc,tCc]        = ens.mk_covs(cer,np.arange(tdn),binsize)\n",
    "[tdc,_,_]      = Cc.shape\n",
    "Cvc            = Cc.reshape(tdc,nEOF**2).T\n",
    "\n",
    "Cmc = Cvc.mean(axis=1, keepdims=True).reshape(nEOF,nEOF)\n",
    "m0 = np.zeros(nEOF)\n",
    "m1 = np.zeros(nEOF)\n",
    "\n",
    "kldc = np.empty(tdc)\n",
    "for ii in np.arange(tdc):\n",
    "    kldc[ii]   = ens.KLdiv(Cc[ii,:,:],Cmc,m0,m1)\n",
    "    \n",
    "plt.plot(tCc,kldc)\n",
    "plt.title('Baseline control K-L divergence')"
   ]
  },
  {
   "cell_type": "markdown",
   "metadata": {},
   "source": [
    "## Compute dominant changes to covariance"
   ]
  },
  {
   "cell_type": "code",
   "execution_count": 163,
   "metadata": {},
   "outputs": [
    {
     "data": {
      "text/plain": [
       "[<matplotlib.lines.Line2D at 0x7fe8f006e7c0>,\n",
       " <matplotlib.lines.Line2D at 0x7fe9b2146ac0>,\n",
       " <matplotlib.lines.Line2D at 0x7fe9b2146f10>]"
      ]
     },
     "execution_count": 163,
     "metadata": {},
     "output_type": "execute_result"
    },
    {
     "data": {
      "image/png": "[encoded data removed]",
      "text/plain": [
       "<Figure size 432x288 with 1 Axes>"
      ]
     },
     "metadata": {
      "needs_background": "light"
     },
     "output_type": "display_data"
    }
   ],
   "source": [
    "# Remove the time mean covariance\n",
    "Cnm           = Cv - Cv.mean(axis=0, keepdims=True)\n",
    "[uC,sC,vCt]   = np.linalg.svd(Cnm, full_matrices=False)\n",
    "\n",
    "# Plot this many PCs\n",
    "pltn          = 40\n",
    "\n",
    "plt.plot(tC,(vCt[:pltn,:]*sC[:pltn,None]).T)\n",
    "\n",
    "# Plot EOFs of the leading nonstationarity matrix\n",
    "[uu,ss,_]    = np.linalg.svd(uC(:,0).reshape(nEOF,nEOF),full_matrices=False)\n",
    "\n",
    "# Nontrivial to project back into physical space. Will give non-orthogonal patterns. Have to think more.\n"
   ]
  },
  {
   "cell_type": "code",
   "execution_count": null,
   "metadata": {},
   "outputs": [],
   "source": [
    "# Regress forcing time series onto covariances to obtain patterns of non-stationarity associated with forcing\n",
    "# Need to get time series of forcing amplitudes (global mean) to do this. I would hypothesize that if we remove the patterns associated with\n",
    "# these regressions (maybe at some lag?) computed for all forcing time series then we'd get back variability that has K-L divergence indistinguishable from the control run!\n",
    "\n",
    "#fts = np.random.randn(len(tC))\n",
    "#proj = Cnm.dot(fts.T)"
   ]
  },
  {
   "cell_type": "code",
   "execution_count": null,
   "metadata": {},
   "outputs": [],
   "source": []
  }
 ],
 "metadata": {
  "kernelspec": {
   "display_name": "Python 3",
   "language": "python",
   "name": "python3"
  },
  "language_info": {
   "codemirror_mode": {
    "name": "ipython",
    "version": 3
   },
   "file_extension": ".py",
   "mimetype": "text/x-python",
   "name": "python",
   "nbconvert_exporter": "python",
   "pygments_lexer": "ipython3",
   "version": "3.8.2"
  }
 },
 "nbformat": 4,
 "nbformat_minor": 4
}
