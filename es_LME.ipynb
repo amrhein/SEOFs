{
 "cells": [
  {
   "cell_type": "markdown",
   "metadata": {},
   "source": [
    "## Load modules"
   ]
  },
  {
   "cell_type": "code",
   "execution_count": 1,
   "metadata": {},
   "outputs": [],
   "source": [
    "import numpy as np\n",
    "import imp\n",
    "import ens_snapshot_tools as ens\n",
    "import matplotlib.pyplot as plt\n",
    "\n",
    "# for debugging\n",
    "# imp.reload(ens)\n",
    "\n",
    "# Luke's\n",
    "import utils #utils file with functions\n",
    "import warnings\n",
    "warnings.filterwarnings('ignore')\n",
    "import os\n",
    "import glob\n",
    "import numpy as np\n",
    "import xarray as xr\n",
    "import xesmf as xe\n",
    "from scipy import stats\n",
    "from scipy import signal\n",
    "import time\n",
    "import matplotlib.pyplot as plt\n",
    "import cartopy.crs as ccrs\n",
    "import cartopy.feature\n",
    "from cartopy.util import add_cyclic_point\n",
    "%matplotlib inline\n",
    "import cartopy.util as cutil\n",
    "from cartopy.mpl.geoaxes import GeoAxes\n",
    "from cartopy.mpl.ticker import LongitudeFormatter, LatitudeFormatter\n",
    "from mpl_toolkits.axes_grid1 import AxesGrid\n",
    "#from mpl_toolkits.basemap import Basemap, maskoceans\n",
    "import matplotlib.cm as cm\n",
    "\n",
    "import utils"
   ]
  },
  {
   "cell_type": "markdown",
   "metadata": {},
   "source": [
    "## Load control run"
   ]
  },
  {
   "cell_type": "code",
   "execution_count": 21,
   "metadata": {},
   "outputs": [],
   "source": [
    "out = np.load('input/CESM_ctrl_wtd_SVD.npz')\n",
    "\n",
    "u    = out['u']\n",
    "s    = out['s']\n",
    "vt   = out['vt']\n",
    "lat  = out['lat']\n",
    "lon  = out['lon']\n",
    "time = out['time']\n",
    "nt   = out['nt']\n",
    "nlat = out['nlat']\n",
    "nlon = out['nlon']\n",
    "\n"
   ]
  },
  {
   "cell_type": "markdown",
   "metadata": {},
   "source": [
    "## Load LME"
   ]
  },
  {
   "cell_type": "code",
   "execution_count": 19,
   "metadata": {},
   "outputs": [],
   "source": [
    "out = np.load('input/CESM_LME_all13_wtd_SVD.npz')\n",
    "\n",
    "u    = out['u']\n",
    "s    = out['s']\n",
    "vt   = out['vt']\n",
    "lat  = out['lat']\n",
    "lon  = out['lon']\n",
    "time = out['time']\n",
    "nt   = out['nt']\n",
    "nlat = out['nlat']\n",
    "nlon = out['nlon']"
   ]
  },
  {
   "cell_type": "markdown",
   "metadata": {},
   "source": [
    "## Compute time-varying, reduced-space covariance matrices"
   ]
  },
  {
   "cell_type": "code",
   "execution_count": 28,
   "metadata": {},
   "outputs": [
    {
     "ename": "ValueError",
     "evalue": "not enough values to unpack (expected 3, got 2)",
     "output_type": "error",
     "traceback": [
      "\u001b[0;31m---------------------------------------------------------------------------\u001b[0m",
      "\u001b[0;31mValueError\u001b[0m                                Traceback (most recent call last)",
      "\u001b[0;32m<ipython-input-28-e386237c0231>\u001b[0m in \u001b[0;36m<module>\u001b[0;34m\u001b[0m\n\u001b[1;32m      6\u001b[0m \u001b[0;34m\u001b[0m\u001b[0m\n\u001b[1;32m      7\u001b[0m \u001b[0;31m# Get time-varying reduced-space covariances\u001b[0m\u001b[0;34m\u001b[0m\u001b[0;34m\u001b[0m\u001b[0;34m\u001b[0m\u001b[0m\n\u001b[0;32m----> 8\u001b[0;31m \u001b[0;34m[\u001b[0m\u001b[0mC\u001b[0m\u001b[0;34m,\u001b[0m\u001b[0mtC\u001b[0m\u001b[0;34m]\u001b[0m        \u001b[0;34m=\u001b[0m \u001b[0mens\u001b[0m\u001b[0;34m.\u001b[0m\u001b[0mmk_covs\u001b[0m\u001b[0;34m(\u001b[0m\u001b[0mdatr\u001b[0m\u001b[0;34m,\u001b[0m\u001b[0mtime\u001b[0m\u001b[0;34m,\u001b[0m\u001b[0mbinsize\u001b[0m\u001b[0;34m)\u001b[0m\u001b[0;34m\u001b[0m\u001b[0;34m\u001b[0m\u001b[0m\n\u001b[0m\u001b[1;32m      9\u001b[0m \u001b[0;34m[\u001b[0m\u001b[0mtd\u001b[0m\u001b[0;34m,\u001b[0m\u001b[0m_\u001b[0m\u001b[0;34m,\u001b[0m\u001b[0m_\u001b[0m\u001b[0;34m]\u001b[0m      \u001b[0;34m=\u001b[0m \u001b[0mC\u001b[0m\u001b[0;34m.\u001b[0m\u001b[0mshape\u001b[0m\u001b[0;34m\u001b[0m\u001b[0;34m\u001b[0m\u001b[0m\n\u001b[1;32m     10\u001b[0m \u001b[0mCv\u001b[0m            \u001b[0;34m=\u001b[0m \u001b[0mC\u001b[0m\u001b[0;34m.\u001b[0m\u001b[0mreshape\u001b[0m\u001b[0;34m(\u001b[0m\u001b[0mtd\u001b[0m\u001b[0;34m,\u001b[0m\u001b[0mnEOF\u001b[0m\u001b[0;34m**\u001b[0m\u001b[0;36m2\u001b[0m\u001b[0;34m)\u001b[0m\u001b[0;34m.\u001b[0m\u001b[0mT\u001b[0m\u001b[0;34m\u001b[0m\u001b[0;34m\u001b[0m\u001b[0m\n",
      "\u001b[0;32m~/Documents/2020-2021/SEOFs/ens_snapshot_tools.py\u001b[0m in \u001b[0;36mmk_covs\u001b[0;34m(data, time, binsize)\u001b[0m\n\u001b[1;32m    197\u001b[0m \u001b[0;34m\u001b[0m\u001b[0m\n\u001b[1;32m    198\u001b[0m     \u001b[0mpad\u001b[0m                \u001b[0;34m=\u001b[0m \u001b[0mint\u001b[0m\u001b[0;34m(\u001b[0m\u001b[0mnp\u001b[0m\u001b[0;34m.\u001b[0m\u001b[0mfloor\u001b[0m\u001b[0;34m(\u001b[0m\u001b[0mbinsize\u001b[0m\u001b[0;34m/\u001b[0m\u001b[0;36m2\u001b[0m\u001b[0;34m)\u001b[0m\u001b[0;34m)\u001b[0m\u001b[0;34m\u001b[0m\u001b[0;34m\u001b[0m\u001b[0m\n\u001b[0;32m--> 199\u001b[0;31m     \u001b[0;34m[\u001b[0m\u001b[0mtd\u001b[0m\u001b[0;34m,\u001b[0m\u001b[0msd\u001b[0m\u001b[0;34m,\u001b[0m\u001b[0m_\u001b[0m\u001b[0;34m]\u001b[0m          \u001b[0;34m=\u001b[0m \u001b[0mdata\u001b[0m\u001b[0;34m.\u001b[0m\u001b[0mshape\u001b[0m\u001b[0;34m\u001b[0m\u001b[0;34m\u001b[0m\u001b[0m\n\u001b[0m\u001b[1;32m    200\u001b[0m \u001b[0;34m\u001b[0m\u001b[0m\n\u001b[1;32m    201\u001b[0m     \u001b[0;31m# Define a vector of time indices not in padded regions. These will be our bin centers.\u001b[0m\u001b[0;34m\u001b[0m\u001b[0;34m\u001b[0m\u001b[0;34m\u001b[0m\u001b[0m\n",
      "\u001b[0;31mValueError\u001b[0m: not enough values to unpack (expected 3, got 2)"
     ]
    }
   ],
   "source": [
    "binsize = 1\n",
    "\n",
    "nEOF = 100\n",
    "\n",
    "datr = s[:nEOF]*vt[:,:nEOF]\n",
    "\n",
    "# Get time-varying reduced-space covariances\n",
    "[C,tC]        = ens.mk_covs(datr,time,binsize)\n",
    "[td,_,_]      = C.shape\n",
    "Cv            = C.reshape(td,nEOF**2).T\n",
    "\n",
    "plt.plot(np.cumsum(s**2)/np.sum(s**2))"
   ]
  },
  {
   "cell_type": "code",
   "execution_count": 27,
   "metadata": {},
   "outputs": [
    {
     "data": {
      "text/plain": [
       "[<matplotlib.lines.Line2D at 0x7fc03b96d3d0>]"
      ]
     },
     "execution_count": 27,
     "metadata": {},
     "output_type": "execute_result"
    },
    {
     "data": {
      "image/png": "[encoded data removed]",
      "text/plain": [
       "<Figure size 432x288 with 1 Axes>"
      ]
     },
     "metadata": {
      "needs_background": "light"
     },
     "output_type": "display_data"
    }
   ],
   "source": [
    "out = np.load('output/CESM_LME_13AllForcing_ReducedEOFs_nEOF_200.npz')\n",
    "datr = out['datr']\n",
    "udat = out['udat']\n",
    "s    = out['s']\n",
    "\n",
    "binsize = 1\n",
    "\n",
    "time = np.arange(850,1850)\n",
    "\n",
    "nEOF = 200\n",
    "\n",
    "# Get time-varying reduced-space covariances\n",
    "[C,tC]        = ens.mk_covs(datr,time,binsize)\n",
    "[td,_,_]      = C.shape\n",
    "Cv            = C.reshape(td,nEOF**2).T\n",
    "\n",
    "plt.plot(np.cumsum(s**2)/np.sum(s**2))"
   ]
  },
  {
   "cell_type": "markdown",
   "metadata": {},
   "source": [
    "## Compute K-L divergence for LME"
   ]
  },
  {
   "cell_type": "code",
   "execution_count": 28,
   "metadata": {},
   "outputs": [
    {
     "data": {
      "text/plain": [
       "[<matplotlib.lines.Line2D at 0x7fc03b946070>]"
      ]
     },
     "execution_count": 28,
     "metadata": {},
     "output_type": "execute_result"
    },
    {
     "data": {
      "image/png": "[encoded data removed]",
      "text/plain": [
       "<Figure size 432x288 with 1 Axes>"
      ]
     },
     "metadata": {
      "needs_background": "light"
     },
     "output_type": "display_data"
    }
   ],
   "source": [
    "\n",
    "Cm = Cv.mean(axis=1, keepdims=True).reshape(nEOF,nEOF)\n",
    "m0 = np.zeros(nEOF)\n",
    "m1 = np.zeros(nEOF)\n",
    "\n",
    "kld = np.empty(td)\n",
    "for ii in np.arange(td):\n",
    "    kld[ii]   = ens.KLdiv(C[ii,:,:],Cm,m0,m1)\n",
    "    \n",
    "plt.plot(tC,kld)"
   ]
  },
  {
   "cell_type": "markdown",
   "metadata": {},
   "source": [
    "## Compute K-L divergence for control run"
   ]
  },
  {
   "cell_type": "code",
   "execution_count": 50,
   "metadata": {},
   "outputs": [],
   "source": [
    "ds_TS = u.dot(np.diag(s)).dot(vt).reshape(1000,nlat,nlon)\n",
    "\n",
    "[nt,nlat,nlon] = np.shape(ds_TS);\n",
    "\n",
    "# Reshape the control run to look like a short ensemble simulation with 13 members\n",
    "# New time length for these is 978 = 13*76\n",
    "cnens = 13;\n",
    "tdn   = int(np.floor(1000./cnens)*cnens)\n",
    "el    = int(tdn/cnens)\n",
    "\n",
    "# Reshape to give an ensemble axis and transpose to make the ordering consistent\n",
    "ce = ds_TS[:(tdn),:,:].reshape(el,cnens,nlat*nlon).transpose([0,2,1])\n",
    "\n",
    "# Need to compute reduced-space form\n",
    "nEOF = 200\n",
    "[cer,uce,sce]   = ens.reduce_space(ce,nEOF)"
   ]
  },
  {
   "cell_type": "code",
   "execution_count": 53,
   "metadata": {},
   "outputs": [
    {
     "data": {
      "text/plain": [
       "Text(0.5, 1.0, 'Baseline control K-L divergence')"
      ]
     },
     "execution_count": 53,
     "metadata": {},
     "output_type": "execute_result"
    },
    {
     "data": {
      "image/png": "[encoded data removed]",
      "text/plain": [
       "<Figure size 432x288 with 1 Axes>"
      ]
     },
     "metadata": {
      "needs_background": "light"
     },
     "output_type": "display_data"
    }
   ],
   "source": [
    "# Get time-varying reduced-space covariances\n",
    "[Cc,tCc]        = ens.mk_covs(cer,np.arange(tdn),binsize)\n",
    "[tdc,_,_]      = Cc.shape\n",
    "Cvc            = Cc.reshape(tdc,nEOF**2).T\n",
    "\n",
    "Cmc = Cvc.mean(axis=1, keepdims=True).reshape(nEOF,nEOF)\n",
    "m0 = np.zeros(nEOF)\n",
    "m1 = np.zeros(nEOF)\n",
    "\n",
    "kldc = np.empty(tdc)\n",
    "for ii in np.arange(tdc):\n",
    "    kldc[ii]   = ens.KLdiv(Cc[ii,:,:],Cmc,m0,m1)\n",
    "    \n",
    "plt.plot(tCc,kldc)\n",
    "plt.title('Baseline control K-L divergence')"
   ]
  },
  {
   "cell_type": "markdown",
   "metadata": {},
   "source": [
    "## Compute dominant changes to covariance"
   ]
  },
  {
   "cell_type": "code",
   "execution_count": null,
   "metadata": {},
   "outputs": [],
   "source": [
    "# Remove the time mean covariance\n",
    "Cnm           = Cv - Cv.mean(axis=0, keepdims=True)\n",
    "[uC,sC,vCt]   = np.linalg.svd(Cnm, full_matrices=False)\n",
    "\n",
    "# Plot this many PCs\n",
    "pltn          = 40\n",
    "\n",
    "plt.plot(tC,(vCt[:pltn,:]*sC[:pltn,None]).T)\n",
    "\n",
    "# Plot EOFs of the leading nonstationarity matrix\n",
    "[uu,ss,_]    = np.linalg.svd(uC(:,0).reshape(nEOF,nEOF),full_matrices=False)\n",
    "\n",
    "# Nontrivial to project back into physical space. Will give non-orthogonal patterns. Have to think more.\n"
   ]
  },
  {
   "cell_type": "code",
   "execution_count": null,
   "metadata": {},
   "outputs": [],
   "source": [
    "# Regress forcing time series onto covariances to obtain patterns of non-stationarity associated with forcing\n",
    "# Need to get time series of forcing amplitudes (global mean) to do this. I would hypothesize that if we remove the patterns associated with\n",
    "# these regressions (maybe at some lag?) computed for all forcing time series then we'd get back variability that has K-L divergence indistinguishable from the control run!\n",
    "\n",
    "#fts = np.random.randn(len(tC))\n",
    "#proj = Cnm.dot(fts.T)"
   ]
  },
  {
   "cell_type": "code",
   "execution_count": null,
   "metadata": {},
   "outputs": [],
   "source": []
  }
 ],
 "metadata": {
  "kernelspec": {
   "display_name": "Python (seofs)",
   "language": "python",
   "name": "seofs"
  },
  "language_info": {
   "codemirror_mode": {
    "name": "ipython",
    "version": 3
   },
   "file_extension": ".py",
   "mimetype": "text/x-python",
   "name": "python",
   "nbconvert_exporter": "python",
   "pygments_lexer": "ipython3",
   "version": "3.8.6"
  }
 },
 "nbformat": 4,
 "nbformat_minor": 4
}
