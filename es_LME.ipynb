{
 "cells": [
  {
   "cell_type": "markdown",
   "metadata": {},
   "source": [
    "## Load modules"
   ]
  },
  {
   "cell_type": "code",
   "execution_count": 1,
   "metadata": {},
   "outputs": [],
   "source": [
    "import numpy as np\n",
    "import imp\n",
    "import ens_snapshot_tools as ens\n",
    "import matplotlib.pyplot as plt\n",
    "\n",
    "# for debugging\n",
    "imp.reload(ens)\n",
    "\n",
    "# Luke's\n",
    "import utils #utils file with functions\n",
    "import warnings\n",
    "warnings.filterwarnings('ignore')\n",
    "import os\n",
    "import glob\n",
    "import numpy as np\n",
    "import xarray as xr\n",
    "import xesmf as xe\n",
    "from scipy import stats\n",
    "from scipy import signal\n",
    "import time\n",
    "import matplotlib.pyplot as plt\n",
    "import cartopy.crs as ccrs\n",
    "import cartopy.feature\n",
    "from cartopy.util import add_cyclic_point\n",
    "%matplotlib inline\n",
    "import cartopy.util as cutil\n",
    "from cartopy.mpl.geoaxes import GeoAxes\n",
    "from cartopy.mpl.ticker import LongitudeFormatter, LatitudeFormatter\n",
    "from mpl_toolkits.axes_grid1 import AxesGrid\n",
    "#from mpl_toolkits.basemap import Basemap, maskoceans\n",
    "import matplotlib.cm as cm\n",
    "\n",
    "import utils"
   ]
  },
  {
   "cell_type": "markdown",
   "metadata": {},
   "source": [
    "## Load control run"
   ]
  },
  {
   "cell_type": "code",
   "execution_count": 2,
   "metadata": {},
   "outputs": [],
   "source": [
    "out = np.load('input/CESM_ctrl_wtd_SVD.npz')\n",
    "\n",
    "u    = out['u']\n",
    "s    = out['s']\n",
    "vt   = out['vt']\n",
    "lat  = out['lat']\n",
    "lon  = out['lon']\n",
    "time = out['time']\n",
    "nt   = out['nt']\n",
    "nlat = out['nlat']\n",
    "nlon = out['nlon']\n",
    "\n"
   ]
  },
  {
   "cell_type": "markdown",
   "metadata": {},
   "source": [
    "## Define bin size for K-L divergence calculations"
   ]
  },
  {
   "cell_type": "code",
   "execution_count": 3,
   "metadata": {},
   "outputs": [],
   "source": [
    "binsize = 25"
   ]
  },
  {
   "cell_type": "markdown",
   "metadata": {},
   "source": [
    "## Compute K-L divergence for control run"
   ]
  },
  {
   "cell_type": "code",
   "execution_count": 4,
   "metadata": {},
   "outputs": [],
   "source": [
    "imp.reload(ens)\n",
    "\n",
    "ds_TS = u.dot(np.diag(s)).dot(vt).reshape(1000,nlat,nlon)\n",
    "\n",
    "[nt,nlat,nlon] = np.shape(ds_TS);\n",
    "\n",
    "# Reshape the control run to look like a short ensemble simulation with 13 members\n",
    "# New time length for these is 988 = 13*76\n",
    "cnens = 13;\n",
    "tdn   = int(np.floor(1000./cnens)*cnens)\n",
    "el    = int(tdn/cnens)\n",
    "\n",
    "# Reshape to give an ensemble axis and transpose to make the ordering consistent\n",
    "#ce = ds_TS[:(tdn),:,:].reshape(el,cnens,nlat*nlon).transpose([0,2,1])\n",
    "\n",
    "ce1 = ds_TS[:(tdn),:,:].reshape(tdn,nlat*nlon).transpose([1,0])\n",
    "ce2 = ce1.reshape(nlat*nlon,el,cnens)\n",
    "\n",
    "# time, space, nens\n",
    "ce  = ce2.transpose([1,0,2])\n",
    "\n"
   ]
  },
  {
   "cell_type": "code",
   "execution_count": 5,
   "metadata": {},
   "outputs": [
    {
     "data": {
      "image/png": "[encoded data removed]",
      "text/plain": [
       "<Figure size 432x288 with 1 Axes>"
      ]
     },
     "metadata": {
      "needs_background": "light"
     },
     "output_type": "display_data"
    }
   ],
   "source": [
    "# Need to compute reduced-space form\n",
    "#binsize = 1\n",
    "nEOF = 500\n",
    "reg = 1\n",
    "[cer,uce,sce]   = ens.reduce_space(ce,nEOF)\n",
    "\n",
    "# Get time-varying reduced-space covariances\n",
    "#[Cco,tCco]       = ens.mk_covs(cer,np.arange(el),binsize)\n",
    "#ch = 0\n",
    "#Cc = Cco[ch:-ch,:,:]\n",
    "#tCc = tCco[ch:-ch]\n",
    "[Cc,tCc]       = ens.mk_covs(cer,np.arange(el),binsize)\n",
    "[tdc,_,_]      = Cc.shape\n",
    "Cvc            = Cc.reshape(tdc,nEOF**2).T\n",
    "\n",
    "# No smoothing for mean\n",
    "[Ccm,tCcm]        = ens.mk_covs(cer,np.arange(el),1)\n",
    "[tdcm,_,_]       = Ccm.shape\n",
    "Cvcm             = Ccm.reshape(tdcm,nEOF**2).T\n",
    "Cmc = Cvcm.mean(axis=1, keepdims=True).reshape(nEOF,nEOF)\n",
    "\n",
    "#cers = cer.transpose(1,0,2).reshape(nEOF,tdn)\n",
    "#Cmc  = (1/tdn-1)*cers.dot(cers.T)\n",
    "#Cmc = 1/(999)*np.diag(sce[:nEOF])\n",
    "\n",
    "m0 = np.zeros(nEOF)\n",
    "m1 = np.zeros(nEOF)\n",
    "\n",
    "kldc = np.empty(tdc)\n",
    "test = np.random.randn(nEOF,nEOF)\n",
    "for ii in np.arange(tdc):\n",
    "    kldc[ii]   = ens.KLdiv(Cc[ii,:,:]+reg*np.eye(nEOF),Cmc+reg*np.eye(nEOF),m0,m1)\n",
    "    #kldc[ii]   = np.trace(Cc[ii,:,:])\n",
    "    #kldc[ii]   = ens.KLdiv(Cc[ii,:,:],.0001*test.dot(test.T),m0,m1)\n",
    "    \n",
    "plt.plot(tCc,kldc)\n",
    "plt.title('Baseline control K-L divergence')\n",
    "plt.show()"
   ]
  },
  {
   "cell_type": "markdown",
   "metadata": {},
   "source": [
    "## Load LME"
   ]
  },
  {
   "cell_type": "code",
   "execution_count": 6,
   "metadata": {},
   "outputs": [],
   "source": [
    "out = np.load('input/CESM_LME_all13_wtd_SVD.npz')\n",
    "\n",
    "u    = out['u']\n",
    "s    = out['s']\n",
    "vt   = out['vt']\n",
    "lat  = out['lat']\n",
    "lon  = out['lon']\n",
    "time = out['time']\n",
    "nt   = out['nt']\n",
    "nlat = out['nlat']\n",
    "nlon = out['nlon']\n",
    "nens = out['nens']"
   ]
  },
  {
   "cell_type": "markdown",
   "metadata": {},
   "source": [
    "## Compute K-L divergence for LME"
   ]
  },
  {
   "cell_type": "code",
   "execution_count": 7,
   "metadata": {},
   "outputs": [],
   "source": [
    "#binsize = 1\n",
    "nens = 13\n",
    "nEOF = 500\n",
    "\n",
    "# EOF x time*nens\n",
    "datr = (vt[:nEOF,:]*s[:nEOF,None])\n",
    "\n",
    "# reshaped into timexEOFxnens\n",
    "datrr = datr.reshape(nEOF,nt,nens).transpose(1,0,2)\n",
    "\n",
    "# Get time-varying reduced-space covariances\n",
    "[C,tC]        = ens.mk_covs(datrr,time,binsize)\n",
    "[td,_,_]      = C.shape\n",
    "Cv            = C.reshape(td,nEOF**2).T\n",
    "\n",
    "# No smoothing for mean\n",
    "[Cm,tCm]        = ens.mk_covs(cer,np.arange(el),1)\n",
    "[tdm,_,_]       = Ccm.shape\n",
    "Cvm             = Ccm.reshape(tdcm,nEOF**2).T\n",
    "Cm = Cvm.mean(axis=1, keepdims=True).reshape(nEOF,nEOF)"
   ]
  },
  {
   "cell_type": "code",
   "execution_count": 8,
   "metadata": {},
   "outputs": [],
   "source": [
    "reg = 1\n",
    "\n",
    "Cm = Cv.mean(axis=1, keepdims=True).reshape(nEOF,nEOF)\n",
    "m0 = np.zeros(nEOF)\n",
    "m1 = np.zeros(nEOF)\n",
    "\n",
    "no = np.linalg.det(Cm)**(1/nEOF)\n",
    "\n",
    "kld = np.empty(td)\n",
    "for ii in np.arange(td):\n",
    "    kld[ii]   = ens.KLdiv(C[ii,:,:]+reg*np.eye(nEOF),Cmc+reg*np.eye(nEOF),m0,m1)\n",
    "    "
   ]
  },
  {
   "cell_type": "code",
   "execution_count": 9,
   "metadata": {},
   "outputs": [
    {
     "data": {
      "image/png": "[encoded data removed]",
      "text/plain": [
       "<Figure size 432x288 with 1 Axes>"
      ]
     },
     "metadata": {
      "needs_background": "light"
     },
     "output_type": "display_data"
    }
   ],
   "source": [
    "#plot time series of kld plus max/min of kldc\n",
    "plt.plot(tC,kld,label='All-Forcing')\n",
    "plt.plot(tC,np.ones(tC.shape[0])*np.max(kldc),'k--',label='piControl max')\n",
    "plt.plot(tC,np.ones(tC.shape[0])*np.min(kldc),'k--',label='piControl min')\n",
    "plt.grid('True')\n",
    "plt.xlim([np.min(tC)-2,np.max(tC)+2])\n",
    "plt.ylim([np.min(kldc),np.max(kld)])\n",
    "plt.title('K-L for binsize:'+str(binsize))\n",
    "plt.legend()\n",
    "plt.show()"
   ]
  },
  {
   "cell_type": "code",
   "execution_count": 10,
   "metadata": {},
   "outputs": [
    {
     "data": {
      "text/plain": [
       "<matplotlib.legend.Legend at 0x7fb5a800f0d0>"
      ]
     },
     "execution_count": 10,
     "metadata": {},
     "output_type": "execute_result"
    },
    {
     "data": {
      "image/png": "[encoded data removed]",
      "text/plain": [
       "<Figure size 432x288 with 1 Axes>"
      ]
     },
     "metadata": {
      "needs_background": "light"
     },
     "output_type": "display_data"
    }
   ],
   "source": [
    "#histogram of kld and kldc\n",
    "\n",
    "plt.hist(kldc,density=True,bins=np.arange(np.min(kldc),np.max(kld),1),label='piControl');\n",
    "plt.hist(kld,density=True,bins=np.arange(np.min(kldc),np.max(kld),1),alpha=.5,label='All-Forcing');\n",
    "plt.title('K-L for binsize:'+str(binsize))\n",
    "plt.legend()"
   ]
  },
  {
   "cell_type": "markdown",
   "metadata": {},
   "source": [
    "## Compute dominant changes to covariance"
   ]
  },
  {
   "cell_type": "code",
   "execution_count": null,
   "metadata": {},
   "outputs": [],
   "source": [
    "# Remove the time mean covariance\n",
    "Cnm           = Cv - Cv.mean(axis=0, keepdims=True)\n",
    "[uC,sC,vCt]   = np.linalg.svd(Cnm, full_matrices=False)\n",
    "\n",
    "# Plot this many PCs\n",
    "pltn          = 40\n",
    "\n",
    "plt.plot(tC,(vCt[:pltn,:]*sC[:pltn,None]).T)\n",
    "\n",
    "# Plot EOFs of the leading nonstationarity matrix\n",
    "[uu,ss,_]    = np.linalg.svd(uC[:,0].reshape(nEOF,nEOF),full_matrices=False)\n",
    "\n",
    "map = u[:,:500].dot(uu[:,0])\n",
    "\n",
    "plt.matshow(map.reshape([nlat,nlon]))\n",
    "\n",
    "# Nontrivial to project back into physical space. Will give non-orthogonal patterns. Have to think more.\n"
   ]
  },
  {
   "cell_type": "code",
   "execution_count": null,
   "metadata": {},
   "outputs": [],
   "source": [
    "plt.matshow(map.reshape([nlat,nlon]))"
   ]
  },
  {
   "cell_type": "markdown",
   "metadata": {},
   "source": [
    "## Regression!"
   ]
  },
  {
   "cell_type": "code",
   "execution_count": null,
   "metadata": {},
   "outputs": [],
   "source": [
    "#binsize = 1\n",
    "nens = 13\n",
    "nEOF = 500\n",
    "\n",
    "# EOF x time*nens\n",
    "datr = (vt[:nEOF,:]*s[:nEOF,None])\n",
    "\n",
    "# reshaped into timexEOFxnens\n",
    "datrr = datr.reshape(nEOF,nt,nens).transpose(1,0,2)\n",
    "\n",
    "# Get time-varying reduced-space covariances\n",
    "[C,tC]        = ens.mk_covs(datrr,time,binsize)\n",
    "[td,_,_]      = C.shape\n",
    "Cv            = C.reshape(td,nEOF**2).T\n",
    "\n",
    "# No smoothing for mean\n",
    "[Cm,tCm]        = ens.mk_covs(cer,np.arange(el),1)\n",
    "[tdm,_,_]       = Ccm.shape\n",
    "Cvm             = Ccm.reshape(tdcm,nEOF**2).T\n",
    "Cm = Cvm.mean(axis=1, keepdims=True).reshape(nEOF,nEOF)"
   ]
  },
  {
   "cell_type": "code",
   "execution_count": null,
   "metadata": {},
   "outputs": [],
   "source": [
    "reg = 1\n",
    "\n",
    "m0 = np.zeros(nEOF)\n",
    "m1 = np.zeros(nEOF)\n",
    "\n",
    "kld = np.empty(td)\n",
    "for ii in np.arange(td):\n",
    "    kld[ii]   = ens.KLdiv(C[ii,:,:]+reg*np.eye(nEOF),Cmc+reg*np.eye(nEOF),m0,m1)"
   ]
  },
  {
   "cell_type": "code",
   "execution_count": null,
   "metadata": {},
   "outputs": [],
   "source": [
    "# Regress forcing time series onto covariances to obtain patterns of non-stationarity associated with forcing\n",
    "# Need to get time series of forcing amplitudes (global mean) to do this. I would hypothesize that if we remove the patterns associated with\n",
    "# these regressions (maybe at some lag?) computed for all forcing time series then we'd get back variability that has K-L divergence indistinguishable from the control run!\n",
    "\n",
    "# Load volcano forcing\n",
    "out   = np.load('output/IVI2Loading_Annual.npz')\n",
    "tvolc = out['time_annual']\n",
    "volc  = out['MMRVOLC_ANN']"
   ]
  },
  {
   "cell_type": "code",
   "execution_count": null,
   "metadata": {},
   "outputs": [],
   "source": [
    "# Shorten. This gives 849:1849, one year offset from KLD\n",
    "OFF = 1\n",
    "vs = volc[(350-OFF):(1350-OFF)]\n",
    "tvs = tvolc[(350):(1350)]\n",
    "plt.scatter(vs,kld)\n",
    "plt.show()\n",
    "\n",
    "plt.figure(figsize=(20,5))\n",
    "kldn = (kld-np.mean(kld))/np.std(kld)\n",
    "vsn = vs/np.std(vs)/3\n",
    "plt.plot(tC[:-1],kldn[1:])\n",
    "plt.plot(tvs,vsn)\n",
    "plt.xlim(850,1850)"
   ]
  },
  {
   "cell_type": "code",
   "execution_count": null,
   "metadata": {
    "jupyter": {
     "source_hidden": true
    }
   },
   "outputs": [],
   "source": [
    "# Normalize like a PC\n",
    "vns = vs/np.linalg.norm(vs)\n",
    "\n",
    "# Regression happens here\n",
    "nC    = Cv.dot(vns)\n",
    "# nC    = vns.T.dot(Cnm.T)\n",
    "wt    = np.linalg.norm(nC)\n",
    "print(wt)\n",
    "nCr   = nC.reshape(nEOF,nEOF)\n",
    "\n",
    "[uCr,sCr,vCr] = np.linalg.svd(nCr,full_matrices=False)\n",
    "\n",
    "plt.plot(sCr[:10]**2/np.sum(sCr[:10]**2))\n",
    "plt.show()\n",
    "\n",
    "plt.matshow(np.flipud(u[:,:500].dot(uCr[0,:]).reshape(nlat,nlon))),plt.colorbar()"
   ]
  },
  {
   "cell_type": "code",
   "execution_count": null,
   "metadata": {},
   "outputs": [],
   "source": [
    "# Do we get a stationary-like covariance if we remove this part?\n",
    "\n",
    "Cres = Cv-nC.dot(vns.T)"
   ]
  },
  {
   "cell_type": "code",
   "execution_count": null,
   "metadata": {},
   "outputs": [],
   "source": [
    "kldres = np.empty(td)\n",
    "reg = 1\n",
    "for ii in np.arange(td):\n",
    "    kldres[ii]   = ens.KLdiv(Cres[:,ii].reshape(nEOF,nEOF)+reg*np.eye(nEOF),Cmc+reg*np.eye(nEOF),m0,m1)\n",
    "    "
   ]
  },
  {
   "cell_type": "code",
   "execution_count": null,
   "metadata": {},
   "outputs": [],
   "source": [
    "plt.figure(figsize=(20,10))\n",
    "plt.plot(tC,kldres)\n",
    "plt.plot(tC,kld)\n",
    "plt.ylim(0,300)"
   ]
  },
  {
   "cell_type": "code",
   "execution_count": null,
   "metadata": {},
   "outputs": [],
   "source": []
  }
 ],
 "metadata": {
  "kernelspec": {
   "display_name": "Python 3",
   "language": "python",
   "name": "python3"
  },
  "language_info": {
   "codemirror_mode": {
    "name": "ipython",
    "version": 3
   },
   "file_extension": ".py",
   "mimetype": "text/x-python",
   "name": "python",
   "nbconvert_exporter": "python",
   "pygments_lexer": "ipython3",
   "version": "3.8.6"
  }
 },
 "nbformat": 4,
 "nbformat_minor": 4
}
