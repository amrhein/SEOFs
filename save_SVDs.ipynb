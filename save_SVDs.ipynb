{
 "cells": [
  {
   "cell_type": "markdown",
   "metadata": {},
   "source": [
    "## Load modules"
   ]
  },
  {
   "cell_type": "code",
   "execution_count": 1,
   "metadata": {},
   "outputs": [
    {
     "ename": "ModuleNotFoundError",
     "evalue": "No module named 'mpl_toolkits.basemap'",
     "output_type": "error",
     "traceback": [
      "\u001b[0;31m---------------------------------------------------------------------------\u001b[0m",
      "\u001b[0;31mModuleNotFoundError\u001b[0m                       Traceback (most recent call last)",
      "\u001b[0;32m<ipython-input-1-f930c05081f5>\u001b[0m in \u001b[0;36m<module>\u001b[0;34m\u001b[0m\n\u001b[1;32m     28\u001b[0m \u001b[0;32mfrom\u001b[0m \u001b[0mcartopy\u001b[0m\u001b[0;34m.\u001b[0m\u001b[0mmpl\u001b[0m\u001b[0;34m.\u001b[0m\u001b[0mticker\u001b[0m \u001b[0;32mimport\u001b[0m \u001b[0mLongitudeFormatter\u001b[0m\u001b[0;34m,\u001b[0m \u001b[0mLatitudeFormatter\u001b[0m\u001b[0;34m\u001b[0m\u001b[0;34m\u001b[0m\u001b[0m\n\u001b[1;32m     29\u001b[0m \u001b[0;32mfrom\u001b[0m \u001b[0mmpl_toolkits\u001b[0m\u001b[0;34m.\u001b[0m\u001b[0maxes_grid1\u001b[0m \u001b[0;32mimport\u001b[0m \u001b[0mAxesGrid\u001b[0m\u001b[0;34m\u001b[0m\u001b[0;34m\u001b[0m\u001b[0m\n\u001b[0;32m---> 30\u001b[0;31m \u001b[0;32mfrom\u001b[0m \u001b[0mmpl_toolkits\u001b[0m\u001b[0;34m.\u001b[0m\u001b[0mbasemap\u001b[0m \u001b[0;32mimport\u001b[0m \u001b[0mBasemap\u001b[0m\u001b[0;34m,\u001b[0m \u001b[0mmaskoceans\u001b[0m\u001b[0;34m\u001b[0m\u001b[0;34m\u001b[0m\u001b[0m\n\u001b[0m\u001b[1;32m     31\u001b[0m \u001b[0;32mimport\u001b[0m \u001b[0mmatplotlib\u001b[0m\u001b[0;34m.\u001b[0m\u001b[0mcm\u001b[0m \u001b[0;32mas\u001b[0m \u001b[0mcm\u001b[0m\u001b[0;34m\u001b[0m\u001b[0;34m\u001b[0m\u001b[0m\n\u001b[1;32m     32\u001b[0m \u001b[0;34m\u001b[0m\u001b[0m\n",
      "\u001b[0;31mModuleNotFoundError\u001b[0m: No module named 'mpl_toolkits.basemap'"
     ]
    }
   ],
   "source": [
    "import numpy as np\n",
    "import imp\n",
    "import ens_snapshot_tools as ens\n",
    "import matplotlib.pyplot as plt\n",
    "\n",
    "# for debugging\n",
    "# imp.reload(ens)\n",
    "\n",
    "# Luke's\n",
    "import utils #utils file with functions\n",
    "import warnings\n",
    "warnings.filterwarnings('ignore')\n",
    "import os\n",
    "import glob\n",
    "import numpy as np\n",
    "import xarray as xr\n",
    "import xesmf as xe\n",
    "from scipy import stats\n",
    "from scipy import signal\n",
    "import time\n",
    "import matplotlib.pyplot as plt\n",
    "import cartopy.crs as ccrs\n",
    "import cartopy.feature\n",
    "from cartopy.util import add_cyclic_point\n",
    "%matplotlib inline\n",
    "import cartopy.util as cutil\n",
    "from cartopy.mpl.geoaxes import GeoAxes\n",
    "from cartopy.mpl.ticker import LongitudeFormatter, LatitudeFormatter\n",
    "from mpl_toolkits.axes_grid1 import AxesGrid\n",
    "from mpl_toolkits.basemap import Basemap, maskoceans\n",
    "import matplotlib.cm as cm\n",
    "\n",
    "import utils"
   ]
  },
  {
   "cell_type": "markdown",
   "metadata": {},
   "source": [
    "## Load control run"
   ]
  },
  {
   "cell_type": "code",
   "execution_count": 4,
   "metadata": {},
   "outputs": [],
   "source": [
    "# Luke's system-specific file paths here\n",
    "\n",
    "local_var = 'TS'\n",
    "\n",
    "DATAPATH_cesm  =    '/Users/lukeaparsons/Documents/Data/CESM/CESM_LME/'+str(local_var)+'/'\n",
    "\n",
    "SAVEPATH  =    '/Users/lukeaparsons/python/SEOFs/output/'\n",
    "FIGUREPATH  =  '/Users/lukeaparsons/python/SEOFs/figures/'"
   ]
  },
  {
   "cell_type": "code",
   "execution_count": 5,
   "metadata": {},
   "outputs": [
    {
     "name": "stdout",
     "output_type": "stream",
     "text": [
      "1000 96 144\n",
      "CESM control shape is:  (1000, 96, 144)\n"
     ]
    }
   ],
   "source": [
    "#load control run to determine lat, lon, nt, etc.\n",
    "ds = xr.open_dataset(DATAPATH_cesm + 'b.e11.B1850C5CN.f19_g16.0850cntl.001.cam.h0.TS.085001-184912.nc') #load tas\n",
    "LAT = ds['lat'][:]\n",
    "LON = ds['lon'][:]\n",
    "ds_TS = ds['TS'][:,:,:]\n",
    "ds_TS = ds_TS.groupby('time.year').mean('time')\n",
    "ds_TS = ds_TS[0:1000,:,:]\n",
    "ds_TS_input = ds_TS.values #use actual values as input data for later numpy calcs\n",
    "[nt,nlat,nlon] = np.shape(ds_TS);\n",
    "print(nt,nlat,nlon)\n",
    "\n",
    "CESM_cntl_anoms = ds_TS - ds_TS.mean(axis=0)\n",
    "CESM_cntl_ltm = ds_TS.mean(axis=0)\n",
    "CESM_cntl_anoms_weighted = utils.weightdata(ds,CESM_cntl_anoms) #use function to latitude weight data\n",
    "print('CESM control shape is: ',CESM_cntl_anoms_weighted.shape)"
   ]
  },
  {
   "cell_type": "code",
   "execution_count": null,
   "metadata": {},
   "outputs": [],
   "source": [
    "[u,s,vt] = np.linalg.svd(CESM_cntl_anoms_weighted.reshape(nt,nlon*nlat),full_matrices=False)\n",
    "[nt,nlat,nlon] = np.shape(ds_TS);\n",
    "\n",
    "time = CESM_cntl_anoms_weighted.year\n",
    "lat = ds['lat'][:]\n",
    "lon = ds['lon'][:]\n",
    "\n",
    "# save output for sharing\n",
    "np.savez(SAVEPATH + 'CESM_ctrl_wtd_SVD',\n",
    "        u = u,\n",
    "        s = s,\n",
    "        vt = vt,\n",
    "        lat = lat,\n",
    "        lon = lon,\n",
    "        time = time,\n",
    "        nt = nt,\n",
    "        nlat = nlat,\n",
    "        nlon = nlon)"
   ]
  },
  {
   "cell_type": "markdown",
   "metadata": {},
   "source": [
    "## Load LME"
   ]
  },
  {
   "cell_type": "code",
   "execution_count": 6,
   "metadata": {},
   "outputs": [],
   "source": [
    "# find all files that have necessary start/end strings etc for the all-forcing run\n",
    "filenames = sorted(os.listdir(DATAPATH_cesm))\n",
    "filenames_cesm = {}\n",
    "h = 0\n",
    "for filename in sorted(os.listdir(DATAPATH_cesm)):\n",
    "    if filename.endswith(\".cam.h0.TS.085001-184912.nc\"): #note this picks data 850-1849\n",
    "        if filename.startswith(\"b.e11.BLMTRC5CN.f19_g16.0\"): #note this string is the string for the all forcing data set\n",
    "            #print(\"filename starts with: b.e11.BLMTRC5CN.f19_g16.0\")\n",
    "            #print(filename)\n",
    "            filenames_cesm[h] = filename\n",
    "            h = h + 1\n",
    "filenames_cesm\n",
    "nens = h"
   ]
  },
  {
   "cell_type": "code",
   "execution_count": 8,
   "metadata": {},
   "outputs": [
    {
     "name": "stdout",
     "output_type": "stream",
     "text": [
      "Done with loading, all calcs in  2  seconds\n",
      "Done with loading, all calcs in  4  seconds\n",
      "Done with loading, all calcs in  5  seconds\n",
      "Done with loading, all calcs in  5  seconds\n",
      "Done with loading, all calcs in  5  seconds\n",
      "Done with loading, all calcs in  5  seconds\n",
      "Done with loading, all calcs in  5  seconds\n",
      "Done with loading, all calcs in  5  seconds\n",
      "Done with loading, all calcs in  5  seconds\n",
      "Done with loading, all calcs in  5  seconds\n",
      "Done with loading, all calcs in  5  seconds\n",
      "Done with loading, all calcs in  7  seconds\n",
      "Done with loading, all calcs in  7  seconds\n"
     ]
    }
   ],
   "source": [
    "dat = np.empty([nt,nlat*nlon,nens])\n",
    "\n",
    "for f in filenames_cesm:\n",
    "    start0 = time.time() #keep track of time through for loop\n",
    "    ds = xr.open_dataset(DATAPATH_cesm + filenames_cesm[f]) #load cesm data defined above\n",
    "    lat = ds['lat'][:]\n",
    "    lon = ds['lon'][:]\n",
    "    data_TS = ds['TS'][:,:,:] - ds['TS'][:,:,:].mean(axis=0)\n",
    "    data_TS1850 = data_TS.groupby('time.year').mean('time')[0:nt,:,:] #note that data includes first month of 1850, so exclude 1850!\n",
    "    data_TS_anom_weighted = utils.weightdata(ds,data_TS1850) #use function to latitude weight data\n",
    "    data_TS_ex = (data_TS_anom_weighted.values).reshape(nt,nlon*nlat) #note that xarray values must be exported to np.reshape\n",
    "    dat[:,:,f] = data_TS_ex\n",
    "    print(\"Done with loading, all calcs in \",round(time.time() - start0),\" seconds\")"
   ]
  },
  {
   "cell_type": "code",
   "execution_count": 20,
   "metadata": {},
   "outputs": [],
   "source": [
    "[u,s,vt] = np.linalg.svd(dat,full_matrices=False)\n",
    "\n",
    "ured  = u[:,:999]\n",
    "vtred = vt[:999,:]\n",
    "time = data_TS1850.year\n",
    "lat = ds['lat'][:]\n",
    "lon = ds['lon'][:]\n",
    "nens = 13\n",
    "\n",
    "# save output for sharing\n",
    "np.savez(SAVEPATH + 'CESM_LME_all13_wtd_SVD',\n",
    "        u = ured,\n",
    "        s = s,\n",
    "        vt = vtred,\n",
    "        lat = lat,\n",
    "        lon = lon,\n",
    "        time = time,\n",
    "        nt = nt,\n",
    "        nlat = nlat,\n",
    "        nlon = nlon,\n",
    "        nens = nens)"
   ]
  }
 ],
 "metadata": {
  "kernelspec": {
   "display_name": "Python 3",
   "language": "python",
   "name": "python3"
  },
  "language_info": {
   "codemirror_mode": {
    "name": "ipython",
    "version": 3
   },
   "file_extension": ".py",
   "mimetype": "text/x-python",
   "name": "python",
   "nbconvert_exporter": "python",
   "pygments_lexer": "ipython3",
   "version": "3.8.2"
  }
 },
 "nbformat": 4,
 "nbformat_minor": 4
}
