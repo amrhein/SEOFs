{
 "cells": [
  {
   "cell_type": "markdown",
   "metadata": {},
   "source": [
    "## Load modules"
   ]
  },
  {
   "cell_type": "code",
   "execution_count": 25,
   "metadata": {},
   "outputs": [],
   "source": [
    "import numpy as np\n",
    "import imp\n",
    "import ens_snapshot_tools as ens\n",
    "import matplotlib.pyplot as plt\n",
    "\n",
    "import pandas as pd\n",
    "# for debugging\n",
    "# imp.reload(ens)\n",
    "\n",
    "# Luke's\n",
    "import utils #utils file with functions\n",
    "import warnings\n",
    "warnings.filterwarnings('ignore')\n",
    "import os\n",
    "import glob\n",
    "import numpy as np\n",
    "import xarray as xr\n",
    "import xesmf as xe\n",
    "from scipy import stats\n",
    "from scipy import signal\n",
    "import time as tm #we run into conflicts if we call 'time' from the cesm time\n",
    "import matplotlib.pyplot as plt\n",
    "import cartopy.crs as ccrs\n",
    "import cartopy.feature\n",
    "from cartopy.util import add_cyclic_point\n",
    "%matplotlib inline\n",
    "import cartopy.util as cutil\n",
    "from cartopy.mpl.geoaxes import GeoAxes\n",
    "from cartopy.mpl.ticker import LongitudeFormatter, LatitudeFormatter\n",
    "from mpl_toolkits.axes_grid1 import AxesGrid\n",
    "from mpl_toolkits.basemap import Basemap, maskoceans\n",
    "import matplotlib.cm as cm\n",
    "\n",
    "import utils"
   ]
  },
  {
   "cell_type": "markdown",
   "metadata": {},
   "source": [
    "## Luke's system-specific file paths here"
   ]
  },
  {
   "cell_type": "code",
   "execution_count": 3,
   "metadata": {},
   "outputs": [],
   "source": [
    "DATAPATH_MMR  =    '/Users/lukeaparsons/Documents/Data/CESM/CESM_LME/MMR_VolcForcing/'\n",
    "\n",
    "SAVEPATH  =    '/Users/lukeaparsons/python/SEOFs/output/'\n",
    "FIGUREPATH  =  '/Users/lukeaparsons/python/SEOFs/figures/'"
   ]
  },
  {
   "cell_type": "markdown",
   "metadata": {},
   "source": [
    "## Load LME IVI forcing file"
   ]
  },
  {
   "cell_type": "code",
   "execution_count": 31,
   "metadata": {},
   "outputs": [],
   "source": [
    "ds = xr.open_dataset(DATAPATH_MMR + 'IVI2LoadingLatHeight501-2000_L18_c20100518.nc') #load forcing file\n",
    "LAT = ds['lat'][:]\n",
    "lev = ds['lev'][:]\n",
    "\n",
    "ds_MMRVOLC = ds['MMRVOLC'][:,:,:]\n",
    "ds_MMRVOLC_levmean = ds_MMRVOLC.mean(dim='lev')\n",
    "ds_MMRVOLC_levmean_weighted = utils.weightdata(ds,ds_MMRVOLC_levmean) #use function to latitude weight data\n",
    "ds_MMRVOLC_levmean_weighted_areamean = ds_MMRVOLC_levmean_weighted.mean(dim='lat')"
   ]
  },
  {
   "cell_type": "markdown",
   "metadata": {},
   "source": [
    "## plot monthly data to check if weighting, averaging messed up data"
   ]
  },
  {
   "cell_type": "code",
   "execution_count": 55,
   "metadata": {},
   "outputs": [
    {
     "data": {
      "text/plain": [
       "Text(0, 0.5, 'MMR IVI')"
      ]
     },
     "execution_count": 55,
     "metadata": {},
     "output_type": "execute_result"
    },
    {
     "data": {
      "image/png": "[encoded data removed]",
      "text/plain": [
       "<Figure size 432x288 with 1 Axes>"
      ]
     },
     "metadata": {
      "needs_background": "light"
     },
     "output_type": "display_data"
    }
   ],
   "source": [
    "plt.plot(ds_MMRVOLC_levmean_weighted_areamean['time'],ds_MMRVOLC_levmean_weighted_areamean)\n",
    "plt.xlabel('Year (CE)')\n",
    "plt.ylabel('MMR IVI')"
   ]
  },
  {
   "cell_type": "code",
   "execution_count": 67,
   "metadata": {},
   "outputs": [],
   "source": [
    "#truncate data to remote dec 500, jan 2001 (at least according to dates in xarray)\n",
    "ds_MMRVOLC_levmean_weighted_areamean_trunc = ds_MMRVOLC_levmean_weighted_areamean[1:18001]\n",
    "time_trunc = ds_MMRVOLC_levmean_weighted_areamean['time'][1:18001]"
   ]
  },
  {
   "cell_type": "markdown",
   "metadata": {},
   "source": [
    "## now take annual mean of 12 months of data"
   ]
  },
  {
   "cell_type": "code",
   "execution_count": 79,
   "metadata": {},
   "outputs": [],
   "source": [
    "nyrs = int(ds_MMRVOLC_levmean_weighted_areamean_trunc.shape[0]/12)\n",
    "\n",
    "ds_MMRVOLC_levmean_weighted_areamean_trunc_annual = np.empty([nyrs, 1])\n",
    "time_annual = np.empty([nyrs, 1])\n",
    "\n",
    "index = 0\n",
    "for tt in np.arange(0,nyrs,1):\n",
    "    \n",
    "    OneYear = ds_MMRVOLC_levmean_weighted_areamean_trunc[index:index+12]\n",
    "    ds_MMRVOLC_levmean_weighted_areamean_trunc_annual[tt] = OneYear.mean(dim='time')\n",
    "    \n",
    "    OneYearTime = time_trunc[index:index+12]\n",
    "    time_annual[tt] = int(np.floor(OneYearTime.mean(dim='time')))\n",
    "    \n",
    "    index = index + 12"
   ]
  },
  {
   "cell_type": "markdown",
   "metadata": {},
   "source": [
    "## plot annual data to check"
   ]
  },
  {
   "cell_type": "code",
   "execution_count": 80,
   "metadata": {},
   "outputs": [
    {
     "data": {
      "text/plain": [
       "Text(0, 0.5, 'MMR IVI')"
      ]
     },
     "execution_count": 80,
     "metadata": {},
     "output_type": "execute_result"
    },
    {
     "data": {
      "image/png": "[encoded data removed]",
      "text/plain": [
       "<Figure size 432x288 with 1 Axes>"
      ]
     },
     "metadata": {
      "needs_background": "light"
     },
     "output_type": "display_data"
    }
   ],
   "source": [
    "plt.plot(time_annual,ds_MMRVOLC_levmean_weighted_areamean_trunc_annual)\n",
    "plt.xlabel('Year (CE)')\n",
    "plt.ylabel('MMR IVI')"
   ]
  },
  {
   "cell_type": "markdown",
   "metadata": {},
   "source": [
    "## Save annualized"
   ]
  },
  {
   "cell_type": "code",
   "execution_count": 86,
   "metadata": {},
   "outputs": [],
   "source": [
    "np.savez(SAVEPATH + 'IVI2Loading_Annual',\n",
    "         time_annual = time_annual,\n",
    "         MMRVOLC_ANN = ds_MMRVOLC_levmean_weighted_areamean_trunc_annual)"
   ]
  }
 ],
 "metadata": {
  "kernelspec": {
   "display_name": "Python 3",
   "language": "python",
   "name": "python3"
  },
  "language_info": {
   "codemirror_mode": {
    "name": "ipython",
    "version": 3
   },
   "file_extension": ".py",
   "mimetype": "text/x-python",
   "name": "python",
   "nbconvert_exporter": "python",
   "pygments_lexer": "ipython3",
   "version": "3.8.2"
  }
 },
 "nbformat": 4,
 "nbformat_minor": 4
}
